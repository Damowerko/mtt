{
 "cells": [
  {
   "cell_type": "code",
   "execution_count": null,
   "metadata": {},
   "outputs": [],
   "source": [
    "%load_ext autoreload\n",
    "%autoreload 2"
   ]
  },
  {
   "cell_type": "code",
   "execution_count": null,
   "metadata": {},
   "outputs": [],
   "source": [
    "import typing\n",
    "\n",
    "import matplotlib.pyplot as plt\n",
    "import numpy as np\n",
    "import torch\n",
    "import torch.nn as nn\n",
    "import torch_geometric.nn as gnn\n",
    "from tqdm.notebook import tqdm\n",
    "\n",
    "from mtt.data.sparse import SparseData, SparseDataset\n",
    "from mtt.models.egnn import EGNNConv\n",
    "from mtt.models.sparse import SparseInput, SparseLabel, SparseOutput"
   ]
  },
  {
   "cell_type": "code",
   "execution_count": null,
   "metadata": {},
   "outputs": [],
   "source": [
    "input_length = 20\n",
    "dataset = SparseDataset(length=input_length, slim=True)\n",
    "train_dataset, val_dataset = torch.utils.data.random_split(\n",
    "    dataset, [0.9, 0.1], generator=torch.Generator().manual_seed(42)\n",
    ")"
   ]
  },
  {
   "cell_type": "code",
   "execution_count": null,
   "metadata": {},
   "outputs": [],
   "source": [
    "from mtt.models.kernel import KNN\n",
    "from torch.utils.data import DataLoader\n",
    "from torchcps.kernel.nn import sample_kernel\n",
    "from torchcps.kernel.rkhs import GaussianKernel, Mixture\n",
    "\n",
    "batch_size = 4\n",
    "data_loader = DataLoader(\n",
    "    train_dataset,\n",
    "    batch_size=batch_size,\n",
    "    shuffle=True,\n",
    "    collate_fn=SparseDataset.collate_fn,\n",
    ")\n",
    "data = next(iter(data_loader))\n",
    "\n",
    "model = KNN(input_length=input_length, n_samples=10000)\n",
    "input = model.forward_input(data)\n",
    "# reshape input to (batch, n_samples, input_length)\n",
    "input = Mixture(\n",
    "    input.positions.reshape(batch_size, -1, 2),\n",
    "    input.weights.reshape(batch_size, -1, model.input_length),\n",
    ")\n",
    "XY = torch.cartesian_prod(*[torch.linspace(-500, 500, 128)] * 2)[None, ...].expand(\n",
    "    4, -1, -1\n",
    ")\n",
    "kernel = GaussianKernel(model.sigma)\n",
    "x = sample_kernel(kernel, input, XY)"
   ]
  },
  {
   "cell_type": "code",
   "execution_count": null,
   "metadata": {},
   "outputs": [],
   "source": [
    "from itertools import product\n",
    "\n",
    "data = typing.cast(SparseData, data)\n",
    "batch_idx = torch.repeat_interleave(\n",
    "    torch.arange(\n",
    "        data.target_batch_sizes.shape[0], device=data.target_batch_sizes.device\n",
    "    ),\n",
    "    data.target_batch_sizes,\n",
    ")\n",
    "\n",
    "steps = list(range(19, 0, -5))\n",
    "fig, axs = plt.subplots(\n",
    "    len(steps), batch_size, figsize=(5 * batch_size, 5 * len(steps))\n",
    ")\n",
    "for (it, t), b in product(enumerate(steps), range(batch_size)):\n",
    "    ax = axs[it, b]\n",
    "    ax.imshow(\n",
    "        x.weights[b, :, t].reshape(128, 128).detach().numpy().T,\n",
    "        cmap=\"viridis\",\n",
    "        origin=\"lower\",\n",
    "        extent=[-500, 500, -500, 500],\n",
    "    )\n",
    "    ax.set_title(f\"Step {t}, Batch {b}\")\n",
    "    ax.scatter(\n",
    "        *data.target_position[(batch_idx == b) & (data.target_time == t)].T, color=\"red\"\n",
    "    )"
   ]
  },
  {
   "cell_type": "code",
   "execution_count": null,
   "metadata": {},
   "outputs": [],
   "source": [
    "sigmas = [10, 15, 20, 25, 30]\n",
    "fig, axs = plt.subplots(\n",
    "    len(sigmas), batch_size, figsize=(5 * batch_size, 5 * len(sigmas))\n",
    ")\n",
    "for i in range(len(sigmas)):\n",
    "    model = KNN(input_length=1, sigma=sigmas[i], n_samples=1000)\n",
    "    input = model.forward_input(data)\n",
    "    input = Mixture(\n",
    "        input.positions.reshape(batch_size, -1, 2).contiguous(),\n",
    "        input.weights.reshape(batch_size, -1, model.input_length).contiguous(),\n",
    "    )\n",
    "    XY = (\n",
    "        torch.cartesian_prod(*[torch.linspace(-500, 500, 128)] * 2)[None, ...]\n",
    "        .expand(4, -1, -1)\n",
    "        .contiguous()\n",
    "    )\n",
    "    kernel = GaussianKernel(model.sigma)\n",
    "    x = sample_kernel(kernel, input, XY)\n",
    "\n",
    "    for b in range(batch_size):\n",
    "        ax = axs[i, b]\n",
    "        ax.imshow(\n",
    "            x.weights[b, :, -1].reshape(128, 128).detach().numpy().T,\n",
    "            cmap=\"viridis\",\n",
    "            origin=\"lower\",\n",
    "            extent=[-500, 500, -500, 500],\n",
    "        )\n",
    "        ax.title.set_text(f\"Sigma {sigmas[i]}, Batch {b}\")"
   ]
  }
 ],
 "metadata": {
  "kernelspec": {
   "display_name": "mtt",
   "language": "python",
   "name": "python3"
  },
  "language_info": {
   "codemirror_mode": {
    "name": "ipython",
    "version": 3
   },
   "file_extension": ".py",
   "mimetype": "text/x-python",
   "name": "python",
   "nbconvert_exporter": "python",
   "pygments_lexer": "ipython3",
   "version": "3.11.8"
  }
 },
 "nbformat": 4,
 "nbformat_minor": 2
}
