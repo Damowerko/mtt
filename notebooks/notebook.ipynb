{
 "cells": [
  {
   "cell_type": "code",
   "execution_count": 1,
   "metadata": {},
   "outputs": [],
   "source": [
    "%load_ext line_profiler\n",
    "%load_ext autoreload\n",
    "%autoreload 2"
   ]
  },
  {
   "cell_type": "code",
   "execution_count": 2,
   "metadata": {},
   "outputs": [],
   "source": [
    "import os\n",
    "import pickle\n",
    "from typing import List, Dict\n",
    "from tempfile import TemporaryDirectory\n",
    "\n",
    "import imageio\n",
    "import torch\n",
    "import numpy as np\n",
    "from matplotlib import pyplot as plt\n",
    "from tqdm import trange\n",
    "\n",
    "from mtt.data import StackedImageData, vector_to_image, simulation_window, stack_images, collate_fn\n",
    "from mtt.visualize import plot_mtt\n",
    "from mtt.models import load_model\n",
    "\n",
    "rng = np.random.default_rng()"
   ]
  },
  {
   "cell_type": "code",
   "execution_count": 3,
   "metadata": {},
   "outputs": [
    {
     "name": "stdout",
     "output_type": "stream",
     "text": [
      "Loading simulation 0 for scales [1, 2] km.\n"
     ]
    }
   ],
   "source": [
    "simulation_idx = rng.integers(100)\n",
    "scales = [1,2]\n",
    "print(f\"Loading simulation {simulation_idx} for scales {scales} km.\")\n",
    "\n",
    "# load data for each scale\n",
    "data: Dict[int,List[StackedImageData]] = {}\n",
    "for scale in scales:\n",
    "    with open(f\"../data/test/{scale}km/simulations.pkl\", \"rb\") as f:\n",
    "        simulation = pickle.load(f)[simulation_idx]\n",
    "        images = stack_images([vector_to_image(data, img_size=128*scale) for data in simulation])\n",
    "        data[scale] = simulation_window(images)"
   ]
  },
  {
   "cell_type": "code",
   "execution_count": 4,
   "metadata": {},
   "outputs": [
    {
     "name": "stderr",
     "output_type": "stream",
     "text": [
      "\u001b[34m\u001b[1mwandb\u001b[0m:   1 of 1 files downloaded.  \n"
     ]
    }
   ],
   "source": [
    "# Make CNN Predictions\n",
    "model, name = load_model(\"wandb://damowerko/mtt/4uc51x21\")\n",
    "model = model.cuda()\n",
    "\n",
    "output_images = {}\n",
    "with torch.no_grad():\n",
    "    for scale in scales:\n",
    "        output_images[scale] = []\n",
    "        for d in data[scale]:\n",
    "            output_images[scale].append(model.forward(d.sensor_images.cuda()).detach().cpu().numpy())"
   ]
  },
  {
   "cell_type": "code",
   "execution_count": 5,
   "metadata": {},
   "outputs": [
    {
     "name": "stderr",
     "output_type": "stream",
     "text": [
      "IMAGEIO FFMPEG_WRITER WARNING: input image is not divisible by macro_block_size=16, resizing from (1000, 500) to (1008, 512) to ensure video compatibility with most codecs and players. To prevent resizing, make your input image divisible by the macro_block_size or set the macro_block_size to 1 (risking incompatibility).\n",
      "[swscaler @ 0x564a2c0] Warning: data is not aligned! This can lead to a speed loss\n",
      "IMAGEIO FFMPEG_WRITER WARNING: input image is not divisible by macro_block_size=16, resizing from (1000, 500) to (1008, 512) to ensure video compatibility with most codecs and players. To prevent resizing, make your input image divisible by the macro_block_size or set the macro_block_size to 1 (risking incompatibility).\n",
      "[swscaler @ 0x6d882c0] Warning: data is not aligned! This can lead to a speed loss\n"
     ]
    }
   ],
   "source": [
    "idx = 0\n",
    "out_dir = f\"../out/video/\"\n",
    "os.makedirs(out_dir, exist_ok=True)\n",
    "for scale in scales:\n",
    "    # generate stills\n",
    "    stills = []\n",
    "    for idx in range(len(data[scale])):\n",
    "        fig = plot_mtt(data[scale][idx].sensor_images.cpu().numpy(), output_images[scale][idx], data[scale][idx].info)\n",
    "        # save fig to numpy array\n",
    "        fig.canvas.draw()\n",
    "        image = np.frombuffer(fig.canvas.tostring_rgb(), dtype=np.uint8)\n",
    "        image = image.reshape(fig.canvas.get_width_height()[::-1] + (3,))\n",
    "        stills.append(image)\n",
    "        plt.close()\n",
    "    # make video using imageio ffmpeg\n",
    "    imageio.mimsave(f\"{out_dir}/{scale}km.mp4\", stills, fps=10)"
   ]
  }
 ],
 "metadata": {
  "interpreter": {
   "hash": "7d254b5343a29bfdb0403307d8b5f18b81144efcf3f8f8805fab4544319af905"
  },
  "kernelspec": {
   "display_name": "mtt",
   "language": "python",
   "name": "mtt"
  },
  "language_info": {
   "codemirror_mode": {
    "name": "ipython",
    "version": 3
   },
   "file_extension": ".py",
   "mimetype": "text/x-python",
   "name": "python",
   "nbconvert_exporter": "python",
   "pygments_lexer": "ipython3",
   "version": "3.9.9"
  },
  "orig_nbformat": 4
 },
 "nbformat": 4,
 "nbformat_minor": 2
}
