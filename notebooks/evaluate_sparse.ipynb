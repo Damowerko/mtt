{
 "cells": [
  {
   "cell_type": "code",
   "execution_count": null,
   "metadata": {},
   "outputs": [],
   "source": [
    "%load_ext autoreload\n",
    "%autoreload 2"
   ]
  },
  {
   "cell_type": "code",
   "execution_count": null,
   "metadata": {},
   "outputs": [],
   "source": [
    "import typing\n",
    "\n",
    "import numpy as np\n",
    "import seaborn as sns\n",
    "import torch\n",
    "from matplotlib import pyplot as plt\n",
    "\n",
    "from mtt.data.sparse import SparseData, SparseDataset\n",
    "from mtt.models.kernel import KNN, SparseBase\n",
    "from mtt.models.transformer import SpatialTransformer\n",
    "from mtt.models.utils import load_model\n",
    "from mtt.utils import compute_ospa, compute_ospa_components\n",
    "\n",
    "rng = np.random.default_rng(0)\n",
    "sns.set_theme(\n",
    "    context=\"paper\",\n",
    "    style=\"whitegrid\",\n",
    "    rc={\n",
    "        \"figure.figsize\": (3.5, 3.5),\n",
    "        \"figure.dpi\": 150,\n",
    "        \"savefig.dpi\": 1000,\n",
    "        \"figure.constrained_layout.use\": True,\n",
    "        \"pdf.fonttype\": 42,\n",
    "    },\n",
    ")"
   ]
  },
  {
   "cell_type": "code",
   "execution_count": null,
   "metadata": {},
   "outputs": [],
   "source": [
    "model: SparseBase\n",
    "model, name, params = load_model(\"wandb://damowerko/mtt/wfgumxwj\")  # mse_sigma = 25\n",
    "# model, name, params = load_model(\"wandb://damowerko/mtt/phvf95ld\")  # mse_sigma = 50\n",
    "model.eval()"
   ]
  },
  {
   "cell_type": "code",
   "execution_count": null,
   "metadata": {},
   "outputs": [],
   "source": [
    "dataset = SparseDataset(\n",
    "    f\"data/train\",\n",
    "    length=params[\"input_length\"],\n",
    "    slim=True,\n",
    ")"
   ]
  },
  {
   "cell_type": "code",
   "execution_count": null,
   "metadata": {},
   "outputs": [],
   "source": [
    "mse_model = 0\n",
    "mse_naive = 0\n",
    "for i in range(100):\n",
    "    data = dataset.get(i, 50)\n",
    "    data = SparseData(*(x.cuda() for x in data))\n",
    "    with torch.no_grad():\n",
    "        input = model.to_stinput(data)\n",
    "        label = model.to_stlabel(data)\n",
    "        output = model.forward(*(x.cuda().contiguous() for x in input))\n",
    "        mse_model += model.mse_loss(\n",
    "            output.mu,\n",
    "            output.logp,\n",
    "            output.batch,\n",
    "            label.y,\n",
    "            label.y_batch,\n",
    "            model.kernel_sigma,\n",
    "        ).item()\n",
    "\n",
    "        logp_naive = torch.full_like(output.logp, output.logp.exp().mean().log().item())\n",
    "        mse_naive += model.mse_loss(\n",
    "            output.mu,\n",
    "            logp_naive,\n",
    "            output.batch,\n",
    "            label.y,\n",
    "            label.y_batch,\n",
    "            model.kernel_sigma,\n",
    "        ).item()\n",
    "\n",
    "print(f\"MSE Model: {mse_model}, MSE Naive: {mse_naive}\")"
   ]
  },
  {
   "cell_type": "code",
   "execution_count": null,
   "metadata": {},
   "outputs": [],
   "source": [
    "sim_idx = np.random.randint(len(dataset))\n",
    "step_idx = 50\n",
    "data = dataset.get(sim_idx, step_idx)\n",
    "data = SparseData(*(x.cuda() for x in data))\n",
    "\n",
    "with torch.no_grad():\n",
    "    input = model.to_stinput(data)\n",
    "    label = model.to_stlabel(data)\n",
    "    output = model.forward(*(x.cuda() for x in input))\n",
    "\n",
    "measurements = data.measurement_position.cpu().numpy()\n",
    "positions = label.y.cpu().numpy()\n",
    "estimates = output.mu.cpu().numpy()\n",
    "probs = output.logp.exp().cpu().numpy()\n",
    "\n",
    "with sns.axes_style(\"ticks\"):\n",
    "    fig, axs = plt.subplots(1, 2, figsize=(7.0, 3.5))\n",
    "    # ax.plot(*data[step_idx].sensor_position.T, \"bx\", label=\"Sensor\")\n",
    "\n",
    "    axs[0].plot(*measurements.T, \"g+\", label=\"Measurement\", alpha=1)\n",
    "    axs[0].plot(*positions.T, \"ro\", label=\"Target\")\n",
    "    axs[0].plot(*estimates.T, \"bx\", label=\"Estimate\")\n",
    "\n",
    "    axs[1].plot(*positions.T, \"ro\", label=\"Target\")\n",
    "\n",
    "    # 128, 128 image\n",
    "    XY = np.mgrid[-500:500:128j, -500:500:128j].reshape(2, -1).T\n",
    "    d = np.linalg.norm(XY[:, None] - estimates[None, :], axis=-1)\n",
    "    # gaussian kernel\n",
    "    kernel = np.exp(-(d**2) / (2 * model.kernel_sigma**2))\n",
    "    image = (kernel @ probs).reshape(128, 128).T\n",
    "    axs[1].imshow(image, extent=(-500, 500, -500, 500), origin=\"lower\", cmap=\"viridis\")\n",
    "\n",
    "    for ax in axs:\n",
    "        ax.set_xlim(-500, 500)\n",
    "        ax.set_ylim(-500, 500)\n",
    "        ax.set_aspect(\"equal\")\n",
    "        ax.legend()"
   ]
  },
  {
   "cell_type": "code",
   "execution_count": null,
   "metadata": {},
   "outputs": [],
   "source": [
    "assert isinstance(model, KNN)\n",
    "\n",
    "positions = model.model.blocks[0].conv.kernel_positions.detach().cpu().numpy()\n",
    "plt.figure()\n",
    "plt.scatter(*positions.T)\n",
    "plt.show()"
   ]
  }
 ],
 "metadata": {
  "kernelspec": {
   "display_name": "mtt",
   "language": "python",
   "name": "python3"
  },
  "language_info": {
   "codemirror_mode": {
    "name": "ipython",
    "version": 3
   },
   "file_extension": ".py",
   "mimetype": "text/x-python",
   "name": "python",
   "nbconvert_exporter": "python",
   "pygments_lexer": "ipython3",
   "version": "3.11.8"
  }
 },
 "nbformat": 4,
 "nbformat_minor": 2
}
