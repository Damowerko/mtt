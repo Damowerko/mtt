{
 "cells": [
  {
   "cell_type": "code",
   "execution_count": 4,
   "metadata": {},
   "outputs": [],
   "source": [
    "# autoreload\n",
    "%load_ext autoreload\n",
    "%autoreload 2"
   ]
  },
  {
   "cell_type": "code",
   "execution_count": 5,
   "metadata": {},
   "outputs": [],
   "source": [
    "import pandas as pd\n",
    "import numpy as np"
   ]
  },
  {
   "cell_type": "code",
   "execution_count": 6,
   "metadata": {},
   "outputs": [],
   "source": [
    "df_measurements = pd.read_parquet(\"data/train/measurements.parquet\")\n",
    "df_sensors = pd.read_parquet(\"data/train/sensors.parquet\")\n",
    "df_targets = pd.read_parquet(\"data/train/targets.parquet\")"
   ]
  },
  {
   "cell_type": "code",
   "execution_count": 7,
   "metadata": {},
   "outputs": [],
   "source": [
    "rolling = df_measurements.groupby(\"sim_idx\").apply(\n",
    "    lambda x: x.groupby(\"step_idx\")\n",
    "    .size()\n",
    "    # reindex to fill in steps with no measurements\n",
    "    .reindex(np.arange(119), fill_value=0)\n",
    "    .rolling(20)\n",
    "    # total number of measurements within the last 20 steps\n",
    "    .sum()\n",
    "    # minimum number of measurements across all windows within same simulation\n",
    "    .min()\n",
    ")"
   ]
  },
  {
   "cell_type": "code",
   "execution_count": 14,
   "metadata": {},
   "outputs": [
    {
     "data": {
      "text/plain": [
       "25"
      ]
     },
     "execution_count": 14,
     "metadata": {},
     "output_type": "execute_result"
    }
   ],
   "source": [
    "(rolling < 100).sum()"
   ]
  }
 ],
 "metadata": {
  "kernelspec": {
   "display_name": "mtt",
   "language": "python",
   "name": "python3"
  },
  "language_info": {
   "codemirror_mode": {
    "name": "ipython",
    "version": 3
   },
   "file_extension": ".py",
   "mimetype": "text/x-python",
   "name": "python",
   "nbconvert_exporter": "python",
   "pygments_lexer": "ipython3",
   "version": "3.11.4"
  }
 },
 "nbformat": 4,
 "nbformat_minor": 2
}
