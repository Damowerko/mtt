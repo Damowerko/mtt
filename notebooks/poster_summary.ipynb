{
 "cells": [
  {
   "cell_type": "code",
   "execution_count": null,
   "metadata": {},
   "outputs": [],
   "source": [
    "import pandas as pd\n",
    "import matplotlib.pyplot as plt\n",
    "import seaborn as sns\n",
    "import numpy as np\n",
    "from pathlib import Path\n",
    "\n",
    "sns.set_theme(\n",
    "    context=\"poster\",\n",
    "    style=\"whitegrid\",\n",
    "    rc={\n",
    "        \"figure.figsize\": (7.0, 7.0),\n",
    "        \"figure.dpi\": 150,\n",
    "        \"savefig.dpi\": 1000,\n",
    "        \"figure.constrained_layout.use\": True,\n",
    "        \"pdf.fonttype\": 42,\n",
    "    },\n",
    ")"
   ]
  },
  {
   "cell_type": "markdown",
   "metadata": {},
   "source": [
    "# Parse MTT Data"
   ]
  },
  {
   "cell_type": "code",
   "execution_count": null,
   "metadata": {},
   "outputs": [],
   "source": [
    "df_cnn = pd.read_csv(\"../data/out/generalization/e7ivqipk.csv\")\n",
    "df_cnn[\"filter\"] = \"cnn\"\n",
    "df_lmb = pd.read_csv(\"../data/out/lmb_summary.csv\")\n",
    "df_glmb = pd.read_csv(\"../data/out/glmb_summary.csv\")\n",
    "df_combined = pd.concat([df_cnn, df_lmb, df_glmb]).reset_index(drop=True)\n",
    "data = (\n",
    "    df_combined.groupby([\"filter\", \"scale\", \"simulation_idx\"], as_index=False)\n",
    "    .mean()\n",
    "    .replace({\"cnn\": \"CNN\", \"lmb\": \"LMB\", \"glmb\": \"GLMB\"})\n",
    "    .rename(columns={\"filter\": \"Filter\"})\n",
    ")"
   ]
  },
  {
   "cell_type": "markdown",
   "metadata": {},
   "source": [
    "# Parse MID Data"
   ]
  },
  {
   "cell_type": "code",
   "execution_count": null,
   "metadata": {},
   "outputs": [],
   "source": [
    "data_path = Path(\"/nfs/general/mid_data/stats\")\n",
    "filenames = list(data_path.glob(\"*.npy\"))\n",
    "# filenames = [data_path / \"256.npy\", data_path / \"512.npy\"]\n",
    "\n",
    "\n",
    "def load_scale(filename: Path) -> pd.DataFrame:\n",
    "    # filename of form {img_size}.npy\n",
    "    img_size = int(filename.stem)\n",
    "    data = np.load(filename)\n",
    "    # columns of data: opt_conn, cnn_conn, cnn_power, opt_count, cnn_count, avg_power\n",
    "    # keep only the ones relating to cnn\n",
    "    return pd.DataFrame(\n",
    "        {\n",
    "            \"img_size\": img_size,\n",
    "            \"connectivity\": data[:, 1],\n",
    "            \"power\": data[:, 2],\n",
    "            \"n_comm\": data[:, 4],\n",
    "        }\n",
    "    )\n",
    "\n",
    "\n",
    "df = pd.concat([load_scale(f) for f in filenames], axis=0, ignore_index=True)\n",
    "\n",
    "# remove values with power == 0\n",
    "df = df[df[\"power\"] > 0]\n",
    "\n",
    "meters_per_pixel = 1.25\n",
    "df[\"width\"] = (df[\"img_size\"] * 1.25).astype(int)"
   ]
  },
  {
   "cell_type": "markdown",
   "metadata": {},
   "source": [
    "# Make Figure"
   ]
  },
  {
   "cell_type": "code",
   "execution_count": null,
   "metadata": {},
   "outputs": [],
   "source": [
    "fig, ax = plt.subplots(1, 3, figsize=(30, 8))\n",
    "\n",
    "sns.barplot(ax=ax[0], data=data, x=\"scale\", y=\"mse\", hue=\"Filter\", errorbar=\"ci\")\n",
    "ax[0].set_ylabel(\"MSE\")\n",
    "ax[0].set_xlabel(\"Window width (km)\")\n",
    "ax[0].set_ylim(1e-5, 3.7e-5)\n",
    "\n",
    "sns.barplot(ax=ax[1], data=data, x=\"scale\", y=\"ospa\", hue=\"Filter\", errorbar=\"ci\")\n",
    "ax[1].set_ylabel(\"OSPA (m)\")\n",
    "ax[1].set_xlabel(\"Window width (km)\")\n",
    "ax[1].set_ylim(100, 370)\n",
    "\n",
    "sns.boxplot(ax=ax[2], data=df, x=\"width\", y=\"power\", notch=True)\n",
    "ax[2].set_xlabel(\"Window width (m)\")\n",
    "ax[2].set_ylabel(\"Transmit power (mW)\")\n",
    "ax[2].set_ylim(10, 37)\n",
    "\n",
    "plt.savefig(\"../figures/poster/combined.pdf\", bbox_inches=\"tight\")\n",
    "plt.show()"
   ]
  }
 ],
 "metadata": {
  "language_info": {
   "name": "python"
  }
 },
 "nbformat": 4,
 "nbformat_minor": 2
}
