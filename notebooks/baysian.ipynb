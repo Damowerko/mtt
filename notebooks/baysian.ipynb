{
 "cells": [
  {
   "cell_type": "code",
   "execution_count": 188,
   "metadata": {},
   "outputs": [
    {
     "name": "stdout",
     "output_type": "stream",
     "text": [
      "The autoreload extension is already loaded. To reload it, use:\n",
      "  %reload_ext autoreload\n"
     ]
    }
   ],
   "source": [
    "# auto reload\n",
    "%load_ext autoreload\n",
    "%autoreload 2"
   ]
  },
  {
   "cell_type": "code",
   "execution_count": 189,
   "metadata": {},
   "outputs": [],
   "source": [
    "import pandas as pd\n",
    "from mtt.simulator import position_image\n",
    "from mtt.utils import compute_ospa\n",
    "from tqdm import tqdm"
   ]
  },
  {
   "cell_type": "code",
   "execution_count": 190,
   "metadata": {},
   "outputs": [],
   "source": [
    "filter_name = \"lmb\"\n",
    "cols = [\"scale\", \"simulation_idx\", \"step_idx\", \"posx_m\", \"posy_m\", \"exist_prob\"]\n",
    "\n",
    "df_truth = pd.read_csv(f\"../data/sim_data/{filter_name}_truth.csv\")\n",
    "df_filter = pd.read_csv(f\"../data/sim_data/{filter_name}_estimates.csv\")\n",
    "df_combined = (\n",
    "    pd.concat([df_truth, df_filter], axis=0, keys=[\"truth\", \"filter\"])\n",
    "    .reset_index(level=0, names=[\"truth\"])\n",
    "    .rename(columns={\"time\": \"step_idx\"})\n",
    ")\n",
    "integer_columns = [\"scale\", \"step_idx\"]\n",
    "df_combined[integer_columns] = df_combined[integer_columns].astype(int)"
   ]
  },
  {
   "cell_type": "code",
   "execution_count": 191,
   "metadata": {},
   "outputs": [],
   "source": [
    "n_scales = df_combined[\"scale\"].unique().size\n",
    "n_simulations = df_combined[\"simulation_idx\"].max() + 1\n",
    "n_steps = df_combined[\"step_idx\"].max() + 1"
   ]
  },
  {
   "cell_type": "code",
   "execution_count": 192,
   "metadata": {},
   "outputs": [
    {
     "name": "stderr",
     "output_type": "stream",
     "text": [
      " 20%|██        | 10000/50000 [00:46<03:06, 213.91it/s]\n"
     ]
    }
   ],
   "source": [
    "def to_image(df: pd.DataFrame, scale: int):\n",
    "    window_width = 1000 * scale\n",
    "    positions = df[[\"posx_m\", \"posy_m\"]].dropna().to_numpy() - window_width / 2\n",
    "    weights = df[\"exist_prob\"].fillna(1.0).to_numpy()\n",
    "    return position_image(\n",
    "        window_width=1000 * scale,\n",
    "        size=128 * scale,\n",
    "        sigma=10.0,\n",
    "        target_positions=positions,\n",
    "        device=\"cuda\",\n",
    "        weights=weights,\n",
    "    )\n",
    "\n",
    "results = []\n",
    "groupby_columns = [\"simulation_idx\", \"step_idx\", \"scale\"]\n",
    "gb = df_combined.query(\"scale == 1\").groupby(groupby_columns, as_index=False, sort=True)\n",
    "for (idx, df) in tqdm(gb, total=n_scales * n_simulations * n_steps):\n",
    "    simulation_idx, step_idx, scale = idx\n",
    "    truth = df[df[\"truth\"] == \"truth\"]\n",
    "    filter = df[df[\"truth\"] == \"filter\"]\n",
    "\n",
    "    truth_positions = truth[[\"posx_m\", \"posy_m\"]].dropna().to_numpy()\n",
    "    filter_positions = filter[[\"posx_m\", \"posy_m\"]].dropna().to_numpy()\n",
    "    ospa = compute_ospa(truth_positions, filter_positions, 500, 2)\n",
    "\n",
    "    truth_image = to_image(truth, scale)\n",
    "    filter_image = to_image(filter, scale)\n",
    "    mse = (truth_image - filter_image).pow(2).mean().item()\n",
    "\n",
    "    results.append(dict(\n",
    "        scale=scale,\n",
    "        simulation_idx=simulation_idx,\n",
    "        step_idx=step_idx,\n",
    "        ospa=ospa,\n",
    "        mse=mse,\n",
    "        filter=filter_name,\n",
    "        cardinality_truth=len(truth_positions),\n",
    "        cardinality_estimate=filter[\"exist_prob\"].sum()\n",
    "    ))\n",
    "df_results = pd.DataFrame(results)"
   ]
  },
  {
   "cell_type": "code",
   "execution_count": 193,
   "metadata": {},
   "outputs": [],
   "source": [
    "df_results.to_csv(f\"../data/out/{filter_name}_summary.csv\", index=False)"
   ]
  }
 ],
 "metadata": {
  "kernelspec": {
   "display_name": "mtt",
   "language": "python",
   "name": "python3"
  },
  "language_info": {
   "codemirror_mode": {
    "name": "ipython",
    "version": 3
   },
   "file_extension": ".py",
   "mimetype": "text/x-python",
   "name": "python",
   "nbconvert_exporter": "python",
   "pygments_lexer": "ipython3",
   "version": "3.9.9"
  },
  "orig_nbformat": 4
 },
 "nbformat": 4,
 "nbformat_minor": 2
}
