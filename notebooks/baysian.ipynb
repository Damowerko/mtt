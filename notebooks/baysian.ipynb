{
 "cells": [
  {
   "cell_type": "code",
   "execution_count": 1,
   "metadata": {},
   "outputs": [],
   "source": [
    "# auto reload\n",
    "%load_ext autoreload\n",
    "%autoreload 2"
   ]
  },
  {
   "cell_type": "code",
   "execution_count": 2,
   "metadata": {},
   "outputs": [],
   "source": [
    "import pandas as pd\n",
    "from mtt.simulator import position_image\n",
    "from mtt.utils import compute_ospa\n",
    "from tqdm.notebook import tqdm\n"
   ]
  },
  {
   "cell_type": "code",
   "execution_count": 3,
   "metadata": {},
   "outputs": [],
   "source": [
    "filter_name = \"glmb\"\n",
    "cols = [\"scale\", \"simulation_idx\", \"step_idx\", \"posx_m\", \"posy_m\", \"exist_prob\"]\n",
    "\n",
    "df_truth = pd.read_csv(\n",
    "    f\"../data/sim_data/{filter_name}/{filter_name}_truth.csv\", low_memory=False\n",
    ")\n",
    "df_filter = pd.read_csv(\n",
    "    f\"../data/sim_data/{filter_name}/{filter_name}_estimates.csv\", low_memory=False\n",
    ")\n",
    "df_combined = (\n",
    "    pd.concat([df_truth, df_filter], axis=0, keys=[\"truth\", \"filter\"])\n",
    "    .reset_index(level=0, names=[\"truth\"])\n",
    "    .rename(columns={\"time\": \"step_idx\"})\n",
    ")\n",
    "integer_columns = [\"scale\", \"step_idx\"]\n",
    "df_combined[integer_columns] = df_combined[integer_columns].astype(int)\n"
   ]
  },
  {
   "cell_type": "code",
   "execution_count": 4,
   "metadata": {},
   "outputs": [],
   "source": [
    "n_scales = df_combined[\"scale\"].unique().size\n",
    "n_simulations = df_combined[\"simulation_idx\"].max() + 1\n",
    "n_steps = df_combined[\"step_idx\"].max() + 1\n"
   ]
  },
  {
   "cell_type": "code",
   "execution_count": 5,
   "metadata": {},
   "outputs": [
    {
     "data": {
      "application/vnd.jupyter.widget-view+json": {
       "model_id": "b4a07252405b46e7a6a4407174a45c02",
       "version_major": 2,
       "version_minor": 0
      },
      "text/plain": [
       "  0%|          | 0/30000 [00:00<?, ?it/s]"
      ]
     },
     "metadata": {},
     "output_type": "display_data"
    }
   ],
   "source": [
    "def to_image(df: pd.DataFrame, scale: int):\n",
    "    # LMCO does not center their sims around 0,0\n",
    "    # 4000, 5000, 7000\n",
    "    if scale == 1:\n",
    "        center = 2000.0\n",
    "    elif scale == 2:\n",
    "        center = 2500.0\n",
    "    elif scale == 3:\n",
    "        center = 3500.0\n",
    "    else:\n",
    "        raise ValueError(f\"Unknown scale {scale}\")\n",
    "\n",
    "    na_positions = df[[\"posx_m\", \"posy_m\"]].isna().any(axis=1)\n",
    "    positions = df[[\"posx_m\", \"posy_m\"]].to_numpy()[~na_positions] - center\n",
    "    weights = df[\"exist_prob\"].fillna(1.0).to_numpy()[~na_positions]\n",
    "    assert len(positions) == len(weights)\n",
    "    return position_image(\n",
    "        window_width=1000 * scale,\n",
    "        size=128 * scale,\n",
    "        sigma=10.0,\n",
    "        target_positions=positions,\n",
    "        device=\"cuda\",\n",
    "        weights=weights,\n",
    "    )\n",
    "\n",
    "\n",
    "results = []\n",
    "groupby_columns = [\"simulation_idx\", \"step_idx\", \"scale\"]\n",
    "gb = df_combined.groupby(groupby_columns, as_index=False, sort=True)\n",
    "for (idx, df) in tqdm(gb, total=len(gb)):\n",
    "    simulation_idx, step_idx, scale = idx\n",
    "    truth = df[df[\"truth\"] == \"truth\"]\n",
    "    filter = df[df[\"truth\"] == \"filter\"]\n",
    "\n",
    "    truth_positions = truth[[\"posx_m\", \"posy_m\"]].dropna().to_numpy()\n",
    "    filter_positions = (\n",
    "        filter.query(\"exist_prob > 0.5\")[[\"posx_m\", \"posy_m\"]].dropna().to_numpy()\n",
    "    )\n",
    "    ospa = compute_ospa(truth_positions, filter_positions, 500, 2)\n",
    "\n",
    "    truth_image = to_image(truth, scale)\n",
    "    filter_image = to_image(filter, scale)\n",
    "    mse = (truth_image - filter_image).pow(2).mean().item()\n",
    "    results.append(\n",
    "        dict(\n",
    "            scale=scale,\n",
    "            simulation_idx=simulation_idx,\n",
    "            step_idx=step_idx,\n",
    "            ospa=ospa,\n",
    "            mse=mse,\n",
    "            filter=filter_name,\n",
    "            cardinality_truth=len(truth_positions),\n",
    "            cardinality_estimate=filter[\"exist_prob\"].sum(),\n",
    "        )\n",
    "    )\n",
    "df_results = pd.DataFrame(results)\n"
   ]
  },
  {
   "cell_type": "code",
   "execution_count": null,
   "metadata": {},
   "outputs": [],
   "source": [
    "df_results.to_csv(f\"../data/out/{filter_name}_summary.csv\", index=False)\n"
   ]
  }
 ],
 "metadata": {
  "kernelspec": {
   "display_name": "mtt",
   "language": "python",
   "name": "python3"
  },
  "language_info": {
   "codemirror_mode": {
    "name": "ipython",
    "version": 3
   },
   "file_extension": ".py",
   "mimetype": "text/x-python",
   "name": "python",
   "nbconvert_exporter": "python",
   "pygments_lexer": "ipython3",
   "version": "3.9.9"
  },
  "orig_nbformat": 4
 },
 "nbformat": 4,
 "nbformat_minor": 2
}
