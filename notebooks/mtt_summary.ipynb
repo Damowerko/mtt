{
 "cells": [
  {
   "cell_type": "code",
   "execution_count": null,
   "metadata": {},
   "outputs": [],
   "source": [
    "import pandas as pd\n",
    "import matplotlib.pyplot as plt\n",
    "import seaborn as sns\n",
    "\n",
    "poster = True\n",
    "figscale = 1.75 if poster else 1.0\n",
    "\n",
    "sns.set_theme(\n",
    "    context=\"poster\" if poster else \"paper\",\n",
    "    style=\"whitegrid\",\n",
    "    rc={\n",
    "        \"figure.figsize\": (figscale * 3.5, figscale * 3.5),\n",
    "        \"figure.dpi\": 150,\n",
    "        \"savefig.dpi\": 1000,\n",
    "        # \"figure.constrained_layout.use\": True,\n",
    "        \"pdf.fonttype\": 42,\n",
    "    },\n",
    ")"
   ]
  },
  {
   "cell_type": "code",
   "execution_count": null,
   "metadata": {},
   "outputs": [],
   "source": [
    "df_cnn = pd.read_csv(\"../data/out/generalization/e7ivqipk.csv\")\n",
    "df_cnn[\"filter\"] = \"cnn\"\n",
    "df_lmb = pd.read_csv(\"../data/out/lmb_summary.csv\")\n",
    "df_glmb = pd.read_csv(\"../data/out/glmb_summary.csv\")\n",
    "df_combined = pd.concat([df_cnn, df_lmb, df_glmb]).reset_index(drop=True)"
   ]
  },
  {
   "cell_type": "code",
   "execution_count": null,
   "metadata": {},
   "outputs": [],
   "source": [
    "(\n",
    "    df_combined.groupby([\"scale\", \"filter\"])[\"ospa\"]\n",
    "    .agg([\"mean\", \"std\"])\n",
    "    .style.format(\"{:.0f}\")\n",
    ")"
   ]
  },
  {
   "cell_type": "code",
   "execution_count": null,
   "metadata": {},
   "outputs": [],
   "source": [
    "data = (\n",
    "    df_combined.groupby([\"filter\", \"scale\", \"simulation_idx\"], as_index=False)\n",
    "    .mean()\n",
    "    .replace({\"cnn\": \"CNN\", \"lmb\": \"LMB\", \"glmb\": \"GLMB\"})\n",
    ")\n",
    "\n",
    "plt.figure()\n",
    "sns.barplot(data=data, x=\"scale\", y=\"mse\", hue=\"filter\", errorbar=\"ci\")\n",
    "plt.legend(\n",
    "    loc=\"center\",\n",
    "    bbox_to_anchor=(1.1, -0.3, -1.2, 0.1),\n",
    "    ncols=3,\n",
    "    title=None,\n",
    "    fontsize=\"x-small\" if poster else None,\n",
    ")\n",
    "plt.ylabel(\"MSE\" if poster else \"Mean Squared Error\")\n",
    "plt.xlabel(\"Window width (km)\")\n",
    "if poster:\n",
    "    plt.title(\"MTT Transfer Learning\")\n",
    "plt.savefig(\"../figures/mtt_mse.pdf\", bbox_inches=\"tight\")\n",
    "plt.savefig(\"../figures/mtt_mse.png\", bbox_inches=\"tight\")\n",
    "plt.show()\n",
    "\n",
    "plt.figure()\n",
    "sns.barplot(data=data, x=\"scale\", y=\"ospa\", hue=\"filter\", errorbar=\"ci\")\n",
    "plt.legend(\n",
    "    loc=\"center\",\n",
    "    bbox_to_anchor=(1.1, -0.3, -1.2, 0.1),\n",
    "    ncols=3,\n",
    "    title=None,\n",
    "    fontsize=\"x-small\" if poster else None,\n",
    ")\n",
    "plt.ylabel(\"OSPA (m)\" if poster else \"Optimal Sub-pattern Assignment\")\n",
    "plt.xlabel(\"Window width (km)\")\n",
    "if poster:\n",
    "    plt.title(\"MTT Transfer Learning\")\n",
    "plt.savefig(\"../figures/mtt_ospa.pdf\", bbox_inches=\"tight\")\n",
    "plt.savefig(\"../figures/mtt_ospa.png\", bbox_inches=\"tight\")\n",
    "plt.show()\n",
    "\n",
    "# plt.figure()\n",
    "# sns.barplot(data=data.query(\"filter != 'CNN'\"), x=\"scale\", y=\"ospa1\", hue=\"filter\", errorbar=\"ci\")\n",
    "# plt.legend(loc=\"lower center\", bbox_to_anchor=(0.5, 1.05), ncol=3, title=None)\n",
    "# plt.ylabel(\"Optimal Sub-pattern Assignment (p=1)\")\n",
    "# plt.xlabel(\"Window width (km)\")\n",
    "# plt.savefig(\"../figures/ospa1.pdf\")\n",
    "# plt.savefig(\"../figures/ospa1.png\")\n",
    "# plt.show()"
   ]
  },
  {
   "cell_type": "markdown",
   "metadata": {},
   "source": [
    "# CNN Runtime"
   ]
  },
  {
   "cell_type": "code",
   "execution_count": null,
   "metadata": {},
   "outputs": [],
   "source": [
    "from scipy.stats import zscore\n",
    "\n",
    "df = pd.read_csv(\"../data/out/generalization/e7ivqipk_runtime.csv\")\n",
    "# filter out columns with zscore greater than 3\n",
    "df = df[df.groupby(\"scale\").forward.transform(zscore).abs() < 3]\n",
    "df.groupby(\"scale\").agg([\"mean\", \"std\"]).apply(lambda x: (x * 1000).round(2))"
   ]
  }
 ],
 "metadata": {
  "language_info": {
   "name": "python"
  }
 },
 "nbformat": 4,
 "nbformat_minor": 2
}
