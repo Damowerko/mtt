{
 "cells": [
  {
   "cell_type": "code",
   "execution_count": null,
   "metadata": {},
   "outputs": [],
   "source": [
    "import pandas as pd\n",
    "import matplotlib.pyplot as plt\n",
    "import seaborn as sns\n",
    "import numpy as np\n",
    "from pathlib import Path\n",
    "\n",
    "poster = True\n",
    "figscale = 1.75 if poster else 1.0\n",
    "\n",
    "sns.set_theme(\n",
    "    context=\"poster\" if poster else \"paper\",\n",
    "    style=\"whitegrid\",\n",
    "    rc={\n",
    "        \"figure.figsize\": (figscale * 3.5, figscale * 3.5),\n",
    "        \"figure.dpi\": 150,\n",
    "        \"savefig.dpi\": 1000,\n",
    "        # \"figure.constrained_layout.use\": True,\n",
    "        \"pdf.fonttype\": 42,\n",
    "    },\n",
    ")"
   ]
  },
  {
   "cell_type": "code",
   "execution_count": null,
   "metadata": {},
   "outputs": [],
   "source": [
    "data_path = Path(\"/nfs/general/mid_data/stats\")\n",
    "filenames = list(data_path.glob(\"*.npy\"))\n",
    "# filenames = [data_path / \"256.npy\", data_path / \"512.npy\"]\n",
    "\n",
    "\n",
    "def load_scale(filename: Path) -> pd.DataFrame:\n",
    "    # filename of form {img_size}.npy\n",
    "    img_size = int(filename.stem)\n",
    "    data = np.load(filename)\n",
    "    # columns of data: opt_conn, cnn_conn, cnn_power, opt_count, cnn_count, avg_power\n",
    "    # keep only the ones relating to cnn\n",
    "    return pd.DataFrame(\n",
    "        {\n",
    "            \"img_size\": img_size,\n",
    "            \"connectivity\": data[:, 1],\n",
    "            \"power\": data[:, 2],\n",
    "            \"n_comm\": data[:, 4],\n",
    "        }\n",
    "    )\n",
    "\n",
    "\n",
    "df = pd.concat([load_scale(f) for f in filenames], axis=0, ignore_index=True)\n",
    "\n",
    "# remove values with power == 0\n",
    "df = df[df[\"power\"] > 0]\n",
    "\n",
    "df.head()"
   ]
  },
  {
   "cell_type": "code",
   "execution_count": null,
   "metadata": {},
   "outputs": [],
   "source": [
    "display(df.groupby(\"img_size\")[\"power\"].describe()[[\"mean\", \"std\"]].round(2))\n",
    "display(df.groupby(\"img_size\")[\"n_comm\"].describe()[[\"mean\", \"std\"]].round(2))"
   ]
  },
  {
   "cell_type": "code",
   "execution_count": null,
   "metadata": {},
   "outputs": [],
   "source": [
    "meters_per_pixel = 1.25\n",
    "df[\"width\"] = (df[\"img_size\"] * 1.25).astype(int)"
   ]
  },
  {
   "cell_type": "code",
   "execution_count": null,
   "metadata": {},
   "outputs": [],
   "source": [
    "sns.boxplot(data=df, x=\"width\", y=\"power\", notch=True)\n",
    "plt.xlabel(\"Window width (m)\")\n",
    "plt.ylabel(\"Transmit power (mW)\" if poster else \"Average minimum transmit power (mW)\")\n",
    "if poster:\n",
    "    plt.title(\"MID Transfer Learning\")\n",
    "plt.savefig(\"../figures/mid_power.pdf\", bbox_inches=\"tight\")\n",
    "plt.savefig(\"../figures/mid_power.png\", bbox_inches=\"tight\")\n",
    "plt.show()"
   ]
  },
  {
   "cell_type": "code",
   "execution_count": null,
   "metadata": {},
   "outputs": [],
   "source": [
    "import numpy as np\n",
    "from scipy.optimize import curve_fit\n",
    "\n",
    "df_baseline = pd.read_csv(\"../data/baseline.csv\")\n",
    "agents = df_baseline[\"agents\"].to_numpy()\n",
    "time = df_baseline[\"time\"].to_numpy()\n",
    "\n",
    "# Fit a Polynomial Model\n",
    "params_poly = np.polyfit(agents, time, deg=3)\n",
    "time_poly = np.polyval(params_poly, agents)\n",
    "\n",
    "\n",
    "# Fit an Exponential Model\n",
    "def exp_model(x, a, b, c):\n",
    "    return a * np.power(x, b) + c\n",
    "\n",
    "\n",
    "params_power, _ = curve_fit(exp_model, agents, time, p0=[1, 1e-6, 1])\n",
    "time_power = exp_model(agents, *params_power)\n",
    "\n",
    "plt.figure()\n",
    "plt.title(\"MID Convex Optimization Computation Time\")\n",
    "plt.xlabel(\"Total Agents\")\n",
    "plt.ylabel(\"Time (s)\")\n",
    "plt.plot(agents, time, \"o\", label=\"Data\")\n",
    "plt.plot(agents, time_poly, label=\"Polynomial Fit\")\n",
    "plt.plot(agents, time_power, label=\"Power Fit\")\n",
    "plt.legend()\n",
    "plt.show()"
   ]
  },
  {
   "cell_type": "code",
   "execution_count": null,
   "metadata": {},
   "outputs": [],
   "source": [
    "df_baseline[\"time_poly\"] = time_poly\n",
    "df_baseline[\"time_power\"] = time_power\n",
    "# compute residuals\n",
    "for model in [\"poly\", \"power\"]:\n",
    "    df_baseline[f\"residual_{model}\"] = (\n",
    "        df_baseline[\"time\"] - df_baseline[f\"time_{model}\"]\n",
    "    )\n",
    "print(params_power)\n",
    "df_baseline.filter(regex=\"residual_\").pow(2).mean()\n",
    "# Extrapolate to 600 agents\n",
    "agents_extrapolate = np.array([10, 50, 100, 300, 600])\n",
    "time_poly_extrapolate = np.polyval(params_poly, agents_extrapolate)\n",
    "time_exp_extrapolate = exp_model(agents_extrapolate, *params_power)\n",
    "\n",
    "plt.figure()\n",
    "plt.title(\"Extrapolation of Computation Time\")\n",
    "plt.xlabel(\"Total Agents\")\n",
    "plt.ylabel(\"Time (minutes)\")\n",
    "plt.plot(agents_extrapolate, time_poly_extrapolate / 60**2, label=\"Polynomial\")\n",
    "plt.plot(agents_extrapolate, time_exp_extrapolate / 60**2, label=\"Power\")\n",
    "plt.show()\n",
    "\n",
    "print(\"Extrapolated Runtime in Minutes\")\n",
    "pd.DataFrame(\n",
    "    dict(\n",
    "        agents=agents_extrapolate,\n",
    "        poly=time_poly_extrapolate / 60,\n",
    "        power=time_exp_extrapolate / 60,\n",
    "    )\n",
    ")"
   ]
  }
 ],
 "metadata": {
  "language_info": {
   "name": "python"
  }
 },
 "nbformat": 4,
 "nbformat_minor": 2
}
