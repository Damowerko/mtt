{
 "cells": [
  {
   "cell_type": "code",
   "execution_count": null,
   "metadata": {},
   "outputs": [],
   "source": [
    "%load_ext autoreload\n",
    "%autoreload 2"
   ]
  },
  {
   "cell_type": "code",
   "execution_count": null,
   "metadata": {},
   "outputs": [],
   "source": [
    "import pandas as pd\n",
    "from pathlib import Path\n",
    "import re\n",
    "import seaborn as sns\n",
    "import matplotlib.pyplot as plt"
   ]
  },
  {
   "cell_type": "markdown",
   "metadata": {},
   "source": [
    "# Parse Data"
   ]
  },
  {
   "cell_type": "code",
   "execution_count": null,
   "metadata": {},
   "outputs": [],
   "source": [
    "# load runtime data for CNN\n",
    "df_cnn = pd.read_csv(\"data/out/generalization/e7ivqipk_runtime.csv\")\n",
    "df_cnn.head()"
   ]
  },
  {
   "cell_type": "code",
   "execution_count": null,
   "metadata": {},
   "outputs": [],
   "source": [
    "# parse runtime data for LMCO data\n",
    "\n",
    "# example: \"data/sim_data/glmb/glmb_3.0k_10_600_0621_noclip_20markov/35/time_35.txt\"\n",
    "regex = re.compile(r\"data/sim_data/(\\w+)/[\\w]+_(\\d+).*/(\\d+)/time_\\d+\\.txt\")\n",
    "data = []\n",
    "for path in Path(\"data/sim_data\").glob(\"**/time_*.txt\"):\n",
    "    match = regex.search(path.as_posix())\n",
    "    if match is None:\n",
    "        raise ValueError(f\"Could not parse path: {path}\")\n",
    "\n",
    "    filter, scale, sim_idx = match.groups()\n",
    "    data.append(\n",
    "        {\n",
    "            \"filter\": filter,\n",
    "            \"scale\": int(scale),\n",
    "            \"sim_idx\": int(sim_idx),\n",
    "            \"time\": float(path.read_text().strip()) / 1000,\n",
    "        }\n",
    "    )\n",
    "df_lmco = pd.DataFrame(data)\n",
    "df_lmco.head()"
   ]
  },
  {
   "cell_type": "code",
   "execution_count": null,
   "metadata": {},
   "outputs": [],
   "source": [
    "# merge the two dfs\n",
    "df_runtime = pd.concat(\n",
    "    [\n",
    "        df_cnn.assign(\n",
    "            filter=\"cnn\",\n",
    "            time=df_cnn[\"forward\"] + df_cnn[\"peaks\"],\n",
    "        )[[\"filter\", \"scale\", \"time\"]],\n",
    "        df_lmco[[\"filter\", \"scale\", \"time\"]],\n",
    "    ],\n",
    "    ignore_index=True,\n",
    ")"
   ]
  },
  {
   "cell_type": "markdown",
   "metadata": {},
   "source": [
    "# Results"
   ]
  },
  {
   "cell_type": "code",
   "execution_count": null,
   "metadata": {},
   "outputs": [],
   "source": [
    "# summary stats\n",
    "df_runtime[\"time_per_km2\"] = df_runtime[\"time\"] / df_runtime[\"scale\"] ** 2\n",
    "(\n",
    "    df_runtime.groupby([\"scale\", \"filter\"])\n",
    "    .agg({\"time\": [\"mean\", \"std\"], \"time_per_km2\": [\"mean\", \"std\"]})\n",
    "    .round(2)\n",
    ")"
   ]
  },
  {
   "cell_type": "code",
   "execution_count": null,
   "metadata": {},
   "outputs": [],
   "source": [
    "# get the ratio of glmb to cnn and lmb to cnn\n",
    "cnn_means = df_runtime.query(\"filter == 'cnn'\").groupby(\"scale\")[\"time\"].mean()\n",
    "(\n",
    "    df_runtime.query(\"scale <= 3\")\n",
    "    .groupby([\"scale\", \"filter\"])[\"time\"]\n",
    "    .mean()\n",
    "    .groupby(\"scale\")\n",
    "    .transform(lambda x: x / cnn_means)\n",
    "    .to_frame()\n",
    "    .rename(columns={\"time_per_km2\": \"Speedup with CNN\"})\n",
    "    .round(0)\n",
    "    .transpose()\n",
    ")"
   ]
  },
  {
   "cell_type": "code",
   "execution_count": null,
   "metadata": {},
   "outputs": [],
   "source": [
    "# summary plot\n",
    "\n",
    "# Set log scale in y-axis\n",
    "\n",
    "# Total Runtime\n",
    "sns.catplot(data=df_runtime, x=\"scale\", y=\"time\", hue=\"filter\")\n",
    "plt.yscale(\"log\")\n",
    "plt.title(\"Total Runtime\")\n",
    "\n",
    "# Normalized Runtime\n",
    "sns.catplot(data=df_runtime, x=\"scale\", y=\"time_per_km2\", hue=\"filter\")\n",
    "plt.yscale(\"log\")\n",
    "plt.title(\"Normalized Runtime\")\n",
    "\n",
    "plt.show()"
   ]
  }
 ],
 "metadata": {
  "language_info": {
   "name": "python"
  }
 },
 "nbformat": 4,
 "nbformat_minor": 2
}
