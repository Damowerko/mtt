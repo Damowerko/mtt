{
 "cells": [
  {
   "cell_type": "code",
   "execution_count": 1,
   "metadata": {},
   "outputs": [],
   "source": [
    "%load_ext autoreload\n",
    "%autoreload 2"
   ]
  },
  {
   "cell_type": "code",
   "execution_count": 2,
   "metadata": {},
   "outputs": [],
   "source": [
    "import numpy as np\n",
    "\n",
    "rng = np.random.default_rng()"
   ]
  },
  {
   "cell_type": "code",
   "execution_count": 3,
   "metadata": {},
   "outputs": [],
   "source": [
    "from mtt.sensor import Sensor\n",
    "from mtt.simulator import Simulator\n",
    "from mtt.data import OnlineDataset\n",
    "\n",
    "init_simulator = lambda: Simulator(\n",
    "    max_targets=10,\n",
    "    p_initial=4,\n",
    "    p_birth=2,\n",
    "    p_survival=0.95,\n",
    "    sigma_motion=0.1,\n",
    "    sigma_initial_state=(3.0, 1.0, 1.0),\n",
    "    max_distance=1e6,\n",
    ")\n",
    "init_sensor = lambda: Sensor(position=(1, 1), noise=(0.2, 0.1), p_detection=0.9)\n",
    "dataset = OnlineDataset(n_steps=100, length=20, img_size=128, init_simulator=init_simulator, init_sensor=init_sensor)"
   ]
  },
  {
   "cell_type": "code",
   "execution_count": 3,
   "metadata": {},
   "outputs": [
    {
     "data": {
      "text/plain": [
       "==========================================================================================\n",
       "Layer (type:depth-idx)                   Output Shape              Param #\n",
       "==========================================================================================\n",
       "Conv3dEncoderDecoder                     --                        --\n",
       "├─Sequential: 1-1                        [1, 64, 20, 17, 17]       --\n",
       "│    └─Conv3d: 2-1                       [1, 64, 20, 65, 65]       12,352\n",
       "│    └─LeakyReLU: 2-2                    [1, 64, 20, 65, 65]       --\n",
       "│    └─Conv3d: 2-3                       [1, 64, 20, 33, 33]       786,496\n",
       "│    └─LeakyReLU: 2-4                    [1, 64, 20, 33, 33]       --\n",
       "│    └─Conv3d: 2-5                       [1, 64, 20, 17, 17]       786,496\n",
       "│    └─LeakyReLU: 2-6                    [1, 64, 20, 17, 17]       --\n",
       "├─Sequential: 1-2                        [64, 5780]                --\n",
       "│    └─Linear: 2-7                       [64, 5780]                33,414,180\n",
       "│    └─ReLU: 2-8                         [64, 5780]                --\n",
       "├─Sequential: 1-3                        [1, 1, 20, 128, 128]      --\n",
       "│    └─ConvTranspose3d: 2-9              [1, 64, 20, 33, 33]       786,496\n",
       "│    └─LeakyReLU: 2-10                   [1, 64, 20, 33, 33]       --\n",
       "│    └─ConvTranspose3d: 2-11             [1, 64, 20, 65, 65]       786,496\n",
       "│    └─LeakyReLU: 2-12                   [1, 64, 20, 65, 65]       --\n",
       "│    └─ConvTranspose3d: 2-13             [1, 1, 20, 128, 128]      12,289\n",
       "│    └─Identity: 2-14                    [1, 1, 20, 128, 128]      --\n",
       "==========================================================================================\n",
       "Total params: 36,584,805\n",
       "Trainable params: 36,584,805\n",
       "Non-trainable params: 0\n",
       "Total mult-adds (G): 112.47\n",
       "==========================================================================================\n",
       "Input size (MB): 1.31\n",
       "Forward/backward pass size (MB): 117.37\n",
       "Params size (MB): 146.34\n",
       "Estimated Total Size (MB): 265.02\n",
       "=========================================================================================="
      ]
     },
     "execution_count": 3,
     "metadata": {},
     "output_type": "execute_result"
    }
   ],
   "source": [
    "from mtt.models import Conv3dEncoderDecoder\n",
    "from torchinfo import summary\n",
    "\n",
    "model = Conv3dEncoderDecoder(n_channels=64, img_size=128, n_encoder=3, n_hidden=1, kernel_spatial=9, padding_spatial=4)\n",
    "summary(model, (1,1) + model.input_shape)"
   ]
  },
  {
   "cell_type": "code",
   "execution_count": 15,
   "metadata": {},
   "outputs": [
    {
     "name": "stderr",
     "output_type": "stream",
     "text": [
      "GPU available: True, used: True\n",
      "TPU available: False, using: 0 TPU cores\n",
      "IPU available: False, using: 0 IPUs\n",
      "LOCAL_RANK: 0 - CUDA_VISIBLE_DEVICES: [0,1]\n",
      "\n",
      "  | Name    | Type       | Params\n",
      "---------------------------------------\n",
      "0 | encoder | Sequential | 520 K \n",
      "1 | decoder | Sequential | 520 K \n",
      "2 | hidden  | Sequential | 0     \n",
      "---------------------------------------\n",
      "1.0 M     Trainable params\n",
      "0         Non-trainable params\n",
      "1.0 M     Total params\n",
      "4.161     Total estimated model params size (MB)\n"
     ]
    },
    {
     "data": {
      "application/vnd.jupyter.widget-view+json": {
       "model_id": "5673eb36451f4262bd49344dc48bbfb8",
       "version_major": 2,
       "version_minor": 0
      },
      "text/plain": [
       "Training: 0it [00:00, ?it/s]"
      ]
     },
     "metadata": {},
     "output_type": "display_data"
    },
    {
     "name": "stderr",
     "output_type": "stream",
     "text": [
      "FIT Profiler Report\n",
      "\n",
      "Action                             \t|  Mean duration (s)\t|Num calls      \t|  Total time (s) \t|  Percentage %   \t|\n",
      "--------------------------------------------------------------------------------------------------------------------------------------\n",
      "Total                              \t|  -              \t|_              \t|  18.561         \t|  100 %          \t|\n",
      "--------------------------------------------------------------------------------------------------------------------------------------\n",
      "run_training_epoch                 \t|  18.529         \t|1              \t|  18.529         \t|  99.828         \t|\n",
      "run_training_batch                 \t|  0.15175        \t|112            \t|  16.996         \t|  91.57          \t|\n",
      "get_train_batch                    \t|  0.0034679      \t|113            \t|  0.39188        \t|  2.1113         \t|\n",
      "fetch_next_train_batch             \t|  0.0034552      \t|113            \t|  0.39043        \t|  2.1035         \t|\n",
      "optimizer_step_with_closure_0      \t|  0.0031505      \t|112            \t|  0.35286        \t|  1.9011         \t|\n",
      "training_step_and_backward         \t|  0.0024262      \t|112            \t|  0.27173        \t|  1.464          \t|\n",
      "backward                           \t|  0.00129        \t|112            \t|  0.14448        \t|  0.77843        \t|\n",
      "model_forward                      \t|  0.0010156      \t|112            \t|  0.11375        \t|  0.61286        \t|\n",
      "on_train_batch_end                 \t|  0.00098908     \t|112            \t|  0.11078        \t|  0.59683        \t|\n",
      "training_step                      \t|  0.00091545     \t|112            \t|  0.10253        \t|  0.55241        \t|\n",
      "training_batch_to_device           \t|  0.00023755     \t|112            \t|  0.026606       \t|  0.14334        \t|\n",
      "on_train_start                     \t|  0.017458       \t|1              \t|  0.017458       \t|  0.094058       \t|\n",
      "on_train_epoch_end                 \t|  0.016352       \t|1              \t|  0.016352       \t|  0.088101       \t|\n",
      "on_train_batch_start               \t|  0.00013149     \t|112            \t|  0.014727       \t|  0.079346       \t|\n",
      "zero_grad                          \t|  0.00010242     \t|112            \t|  0.011471       \t|  0.061804       \t|\n",
      "on_batch_start                     \t|  1.4558e-05     \t|112            \t|  0.0016305      \t|  0.0087846      \t|\n",
      "on_pretrain_routine_start          \t|  0.0014593      \t|1              \t|  0.0014593      \t|  0.0078625      \t|\n",
      "on_batch_end                       \t|  1.2537e-05     \t|112            \t|  0.0014042      \t|  0.0075653      \t|\n",
      "on_before_zero_grad                \t|  1.0484e-05     \t|112            \t|  0.0011742      \t|  0.0063263      \t|\n",
      "on_after_backward                  \t|  9.4997e-06     \t|112            \t|  0.001064       \t|  0.0057323      \t|\n",
      "on_before_backward                 \t|  9.393e-06      \t|112            \t|  0.001052       \t|  0.0056679      \t|\n",
      "on_before_optimizer_step           \t|  8.6485e-06     \t|112            \t|  0.00096863     \t|  0.0052187      \t|\n",
      "on_train_epoch_start               \t|  0.0005803      \t|1              \t|  0.0005803      \t|  0.0031265      \t|\n",
      "on_train_end                       \t|  0.00057498     \t|1              \t|  0.00057498     \t|  0.0030978      \t|\n",
      "training_step_end                  \t|  3.6802e-06     \t|112            \t|  0.00041218     \t|  0.0022207      \t|\n",
      "configure_optimizers               \t|  6.861e-05      \t|1              \t|  6.861e-05      \t|  0.00036965     \t|\n",
      "on_before_accelerator_backend_setup\t|  1.5039e-05     \t|1              \t|  1.5039e-05     \t|  8.1026e-05     \t|\n",
      "on_epoch_end                       \t|  1.3766e-05     \t|1              \t|  1.3766e-05     \t|  7.4167e-05     \t|\n",
      "on_configure_sharded_model         \t|  1.2934e-05     \t|1              \t|  1.2934e-05     \t|  6.9685e-05     \t|\n",
      "teardown                           \t|  1.2663e-05     \t|1              \t|  1.2663e-05     \t|  6.8225e-05     \t|\n",
      "on_fit_end                         \t|  1.2654e-05     \t|1              \t|  1.2654e-05     \t|  6.8176e-05     \t|\n",
      "on_fit_start                       \t|  1.1692e-05     \t|1              \t|  1.1692e-05     \t|  6.2993e-05     \t|\n",
      "on_epoch_start                     \t|  1.1341e-05     \t|1              \t|  1.1341e-05     \t|  6.1102e-05     \t|\n",
      "setup                              \t|  1.059e-05      \t|1              \t|  1.059e-05      \t|  5.7056e-05     \t|\n",
      "on_pretrain_routine_end            \t|  1.0329e-05     \t|1              \t|  1.0329e-05     \t|  5.565e-05      \t|\n",
      "configure_callbacks                \t|  4.479e-06      \t|1              \t|  4.479e-06      \t|  2.4131e-05     \t|\n",
      "configure_sharded_model            \t|  3.487e-06      \t|1              \t|  3.487e-06      \t|  1.8787e-05     \t|\n",
      "prepare_data                       \t|  3.417e-06      \t|1              \t|  3.417e-06      \t|  1.841e-05      \t|\n",
      "on_train_dataloader                \t|  3.266e-06      \t|1              \t|  3.266e-06      \t|  1.7596e-05     \t|\n",
      "\n"
     ]
    }
   ],
   "source": [
    "import pytorch_lightning as pl\n",
    "from torch.utils.data import DataLoader\n",
    "\n",
    "dataloader = DataLoader(\n",
    "    dataset,\n",
    "    batch_size=16,\n",
    "    num_workers=16,\n",
    "    pin_memory=True,\n",
    ")\n",
    "trainer = pl.Trainer(max_epochs=1, gpus=1, profiler=\"simple\")\n",
    "trainer.fit(model, dataloader)"
   ]
  },
  {
   "cell_type": "code",
   "execution_count": null,
   "metadata": {},
   "outputs": [],
   "source": []
  }
 ],
 "metadata": {
  "interpreter": {
   "hash": "7d254b5343a29bfdb0403307d8b5f18b81144efcf3f8f8805fab4544319af905"
  },
  "kernelspec": {
   "display_name": "Python 3.9.9 64-bit ('mtt': pyenv)",
   "language": "python",
   "name": "python3"
  },
  "language_info": {
   "codemirror_mode": {
    "name": "ipython",
    "version": 3
   },
   "file_extension": ".py",
   "mimetype": "text/x-python",
   "name": "python",
   "nbconvert_exporter": "python",
   "pygments_lexer": "ipython3",
   "version": "3.9.7"
  },
  "orig_nbformat": 4
 },
 "nbformat": 4,
 "nbformat_minor": 2
}
